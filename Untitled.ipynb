{
 "cells": [
  {
   "cell_type": "code",
   "execution_count": 25,
   "metadata": {},
   "outputs": [],
   "source": [
    "import pandas as pd\n",
    "\n",
    "data = pd.read_excel('data.xlsx')"
   ]
  },
  {
   "cell_type": "code",
   "execution_count": 27,
   "metadata": {},
   "outputs": [
    {
     "data": {
      "text/html": [
       "<div>\n",
       "<style scoped>\n",
       "    .dataframe tbody tr th:only-of-type {\n",
       "        vertical-align: middle;\n",
       "    }\n",
       "\n",
       "    .dataframe tbody tr th {\n",
       "        vertical-align: top;\n",
       "    }\n",
       "\n",
       "    .dataframe thead th {\n",
       "        text-align: right;\n",
       "    }\n",
       "</style>\n",
       "<table border=\"1\" class=\"dataframe\">\n",
       "  <thead>\n",
       "    <tr style=\"text-align: right;\">\n",
       "      <th></th>\n",
       "      <th>Unnamed: 0</th>\n",
       "    </tr>\n",
       "  </thead>\n",
       "  <tbody>\n",
       "    <tr>\n",
       "      <th>count</th>\n",
       "      <td>13872.000000</td>\n",
       "    </tr>\n",
       "    <tr>\n",
       "      <th>mean</th>\n",
       "      <td>7340.801471</td>\n",
       "    </tr>\n",
       "    <tr>\n",
       "      <th>std</th>\n",
       "      <td>4310.403475</td>\n",
       "    </tr>\n",
       "    <tr>\n",
       "      <th>min</th>\n",
       "      <td>1.000000</td>\n",
       "    </tr>\n",
       "    <tr>\n",
       "      <th>25%</th>\n",
       "      <td>3618.750000</td>\n",
       "    </tr>\n",
       "    <tr>\n",
       "      <th>50%</th>\n",
       "      <td>7398.500000</td>\n",
       "    </tr>\n",
       "    <tr>\n",
       "      <th>75%</th>\n",
       "      <td>11070.250000</td>\n",
       "    </tr>\n",
       "    <tr>\n",
       "      <th>max</th>\n",
       "      <td>14742.000000</td>\n",
       "    </tr>\n",
       "  </tbody>\n",
       "</table>\n",
       "</div>"
      ],
      "text/plain": [
       "         Unnamed: 0\n",
       "count  13872.000000\n",
       "mean    7340.801471\n",
       "std     4310.403475\n",
       "min        1.000000\n",
       "25%     3618.750000\n",
       "50%     7398.500000\n",
       "75%    11070.250000\n",
       "max    14742.000000"
      ]
     },
     "execution_count": 27,
     "metadata": {},
     "output_type": "execute_result"
    }
   ],
   "source": [
    "data.describe()"
   ]
  },
  {
   "cell_type": "code",
   "execution_count": 14,
   "metadata": {},
   "outputs": [],
   "source": [
    "import seaborn as sns\n",
    "import matplotlib.pyplot as plt"
   ]
  },
  {
   "cell_type": "code",
   "execution_count": 29,
   "metadata": {},
   "outputs": [
    {
     "data": {
      "text/plain": [
       "0            NaN\n",
       "1            NaN\n",
       "2            NaN\n",
       "3            NaN\n",
       "4            NaN\n",
       "5            NaN\n",
       "6            NaN\n",
       "7            NaN\n",
       "8            NaN\n",
       "9            1.0\n",
       "10           NaN\n",
       "11           2.0\n",
       "12           3.0\n",
       "13           4.0\n",
       "14           5.0\n",
       "15           6.0\n",
       "16           7.0\n",
       "17           8.0\n",
       "18           9.0\n",
       "19          10.0\n",
       "20          11.0\n",
       "21          12.0\n",
       "22          13.0\n",
       "23          14.0\n",
       "24           NaN\n",
       "25          16.0\n",
       "26          17.0\n",
       "27          18.0\n",
       "28          19.0\n",
       "29           NaN\n",
       "          ...   \n",
       "15845    14714.0\n",
       "15846    14715.0\n",
       "15847    14716.0\n",
       "15848    14717.0\n",
       "15849    14718.0\n",
       "15850    14719.0\n",
       "15851    14720.0\n",
       "15852        NaN\n",
       "15853    14722.0\n",
       "15854    14723.0\n",
       "15855    14724.0\n",
       "15856    14725.0\n",
       "15857        NaN\n",
       "15858    14726.0\n",
       "15859    14727.0\n",
       "15860    14728.0\n",
       "15861    14729.0\n",
       "15862    14730.0\n",
       "15863    14731.0\n",
       "15864    14732.0\n",
       "15865    14733.0\n",
       "15866    14734.0\n",
       "15867    14735.0\n",
       "15868    14736.0\n",
       "15869    14737.0\n",
       "15870    14738.0\n",
       "15871        NaN\n",
       "15872    14740.0\n",
       "15873    14741.0\n",
       "15874    14742.0\n",
       "Name: Unnamed: 0, Length: 15875, dtype: float64"
      ]
     },
     "execution_count": 29,
     "metadata": {},
     "output_type": "execute_result"
    }
   ],
   "source": [
    "data['Unnamed: 0']"
   ]
  },
  {
   "cell_type": "code",
   "execution_count": 20,
   "metadata": {},
   "outputs": [
    {
     "data": {
      "image/png": "[encoded data removed]",
      "text/plain": [
       "<Figure size 432x288 with 1 Axes>"
      ]
     },
     "metadata": {
      "needs_background": "light"
     },
     "output_type": "display_data"
    }
   ],
   "source": [
    "plt.figure()\n",
    "sns.distplot(data['Unnamed: 2'].dropna())\n",
    "plt.show()"
   ]
  },
  {
   "cell_type": "code",
   "execution_count": 16,
   "metadata": {},
   "outputs": [
    {
     "data": {
      "image/png": "[encoded data removed]",
      "text/plain": [
       "<Figure size 432x288 with 1 Axes>"
      ]
     },
     "metadata": {
      "needs_background": "light"
     },
     "output_type": "display_data"
    }
   ],
   "source": [
    "plt.figure()\n",
    "dts = data['Unnamed: 2'].dropna()\n",
    "dts = dts.drop(dts[dts>100000].index)\n",
    "sns.distplot(dts)\n",
    "plt.show()"
   ]
  },
  {
   "cell_type": "code",
   "execution_count": 30,
   "metadata": {},
   "outputs": [],
   "source": [
    "from xlrd import * "
   ]
  },
  {
   "cell_type": "code",
   "execution_count": 35,
   "metadata": {},
   "outputs": [],
   "source": [
    "wb = open_workbook('data.xlsx')"
   ]
  },
  {
   "cell_type": "code",
   "execution_count": 36,
   "metadata": {},
   "outputs": [
    {
     "name": "stdout",
     "output_type": "stream",
     "text": [
      "[<xlrd.sheet.Sheet object at 0x7f5dd53b0dd8>]\n",
      "15876\n"
     ]
    }
   ],
   "source": [
    "print(wb.sheets())\n",
    "print(wb.sheets()[0].nrows)"
   ]
  },
  {
   "cell_type": "code",
   "execution_count": 45,
   "metadata": {},
   "outputs": [],
   "source": [
    "regions = ['Российская Федерация', 'Центральный федеральный округ']\n",
    "education = ['послевузовское', 'высшее', 'неполное высшее', 'среднее', 'начальное', 'без образования', 'неграмотные']"
   ]
  },
  {
   "cell_type": "code",
   "execution_count": 49,
   "metadata": {},
   "outputs": [],
   "source": [
    "region_name_to_id = {\n",
    "    'Белгородская область': 36,\n",
    "    'Владимирская область': 37,\n",
    "    'Ивановская область': 41,\n",
    "}\n"
   ]
  },
  {
   "cell_type": "code",
   "execution_count": 94,
   "metadata": {},
   "outputs": [
    {
     "name": "stdout",
     "output_type": "stream",
     "text": [
      "Мужчины и женщины в возрасте 15 лет\n",
      "и более\n",
      "Мужчины и женщины в возрасте 15 лет\n",
      "и более\n",
      "Мужчины и женщины в возрасте 15 лет\n",
      "и более\n"
     ]
    }
   ],
   "source": [
    "sheet = wb.sheets()[0]\n",
    "for i in range(sheet.nrows):\n",
    "    if sheet.cell(i,1).value in region_name_to_id:\n",
    "        postgrad = sheet.cell(i+2,4).value\n",
    "        higher  =  sheet.cell(i+2,5).value\n",
    "        higherip = sheet.cell(i+2,9).value\n",
    "        middle = sheet.cell(i+2,10).value\n",
    "        basic = sheet.cell(i+2,11).value\n",
    "        noeducation = sheet.cell(i+2,15).value\n",
    "        nothing = sheet.cell(i+2, 16).value\n",
    "        \n",
    "        col = 10\n",
    "        print(sheet.cell(i+118, 1).value)\n",
    "        "
   ]
  },
  {
   "cell_type": "code",
   "execution_count": null,
   "metadata": {},
   "outputs": [],
   "source": []
  }
 ],
 "metadata": {
  "kernelspec": {
   "display_name": "Python 3",
   "language": "python",
   "name": "python3"
  },
  "language_info": {
   "codemirror_mode": {
    "name": "ipython",
    "version": 3
   },
   "file_extension": ".py",
   "mimetype": "text/x-python",
   "name": "python",
   "nbconvert_exporter": "python",
   "pygments_lexer": "ipython3",
   "version": "3.5.2"
  }
 },
 "nbformat": 4,
 "nbformat_minor": 2
}
